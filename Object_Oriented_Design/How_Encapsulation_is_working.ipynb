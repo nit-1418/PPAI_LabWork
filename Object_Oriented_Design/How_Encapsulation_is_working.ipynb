{
  "nbformat": 4,
  "nbformat_minor": 0,
  "metadata": {
    "colab": {
      "provenance": []
    },
    "kernelspec": {
      "name": "python3",
      "display_name": "Python 3"
    },
    "language_info": {
      "name": "python"
    }
  },
  "cells": [
    {
      "cell_type": "markdown",
      "source": [
        "The object-oriented design for this online messaging system has utilized the principle of encapsulation. Encapsulation involves bundling the data (attributes) and the methods (functions) that operate on the data into a single unit, i.e., a class."
      ],
      "metadata": {
        "id": "MPX5k2IoZd1R"
      }
    },
    {
      "cell_type": "code",
      "execution_count": null,
      "metadata": {
        "id": "Lf9VhTJ_UeZx"
      },
      "outputs": [],
      "source": [
        "# User.py\n",
        "from message import Message\n",
        "\n",
        "class User:\n",
        "    def __init__(self, user_id, username, email):\n",
        "        self.user_id = user_id\n",
        "        self.username = username\n",
        "        self.email = email\n",
        "        self.messages = []\n",
        "        self.displayed_messages = set()\n",
        "\n",
        "    def send_message(self, content, recipient):\n",
        "        message = Message(content, self, recipient)\n",
        "        recipient.receive_message(message)\n",
        "        self.messages.append(message)\n",
        "\n",
        "    def receive_message(self, message):\n",
        "        self.messages.append(message)\n",
        "\n",
        "    def get_messages(self):\n",
        "        return self.messages\n",
        "\n",
        "    def display_messages(self):\n",
        "        print(f\"\\nMessages for {self.username}:\")\n",
        "        for message in self.messages:\n",
        "            if message not in self.displayed_messages:\n",
        "                print(message)\n",
        "                self.displayed_messages.add(message)\n",
        "\n"
      ]
    },
    {
      "cell_type": "markdown",
      "source": [
        "The User class encapsulates user-related data (user_id, username, email) and methods (send_message, receive_message).\n",
        "Data attributes (user_id, username, email) are encapsulated within the class, making them private to the class, and accessed or modified through public methods.\n",
        "The send_message and receive_message methods encapsulate the logic for sending and receiving messages, abstracting away the implementation details."
      ],
      "metadata": {
        "id": "ZqlsSWknY2DL"
      }
    },
    {
      "cell_type": "code",
      "source": [
        "# Message\n",
        "from datetime import datetime\n",
        "\n",
        "class Message:\n",
        "    def __init__(self, content, sender, recipient):\n",
        "        self.content = content\n",
        "        self.sender = sender\n",
        "        self.recipient = recipient\n",
        "        self.timestamp = datetime.now()\n",
        "\n",
        "    def __str__(self):\n",
        "        return f\"{self.sender.username} -> {self.recipient.username}: {self.content}\"\n"
      ],
      "metadata": {
        "id": "VXN0Exe9rl4z"
      },
      "execution_count": null,
      "outputs": []
    },
    {
      "cell_type": "markdown",
      "source": [
        "The Message class encapsulates message-related data (content, sender, recipient, timestamp) and provides a string representation through the __str__ method.\n",
        "Message content and details are encapsulated within the class, and the user interacts with messages through well-defined interfaces."
      ],
      "metadata": {
        "id": "QuKq6HtkZGd5"
      }
    },
    {
      "cell_type": "code",
      "source": [
        "\n",
        "# Chatroom\n",
        "from message import Message\n",
        "\n",
        "class ChatRoom:\n",
        "    def __init__(self, participants):\n",
        "        self.participants = participants\n",
        "        self.messages = []\n",
        "\n",
        "    def send_group_message(self, content, sender):\n",
        "        group_message = Message(content, sender, self)\n",
        "        for participant in self.participants:\n",
        "            if participant != sender:\n",
        "                participant.receive_message(group_message)\n",
        "        self.messages.append(group_message)\n",
        "\n",
        "    def get_members(self):\n",
        "        return [participant.username for participant in self.participants]\n"
      ],
      "metadata": {
        "id": "Z8OaMFK9Y-MY"
      },
      "execution_count": null,
      "outputs": []
    },
    {
      "cell_type": "markdown",
      "source": [
        "The ChatRoom class encapsulates the logic for group chats, including participants and sending group messages.\n",
        "The send_group_message method encapsulates the logic for sending a message to multiple participants, hiding the details of the implementation."
      ],
      "metadata": {
        "id": "sm7pcoipZRDh"
      }
    },
    {
      "cell_type": "markdown",
      "source": [
        "##How I get advantage of Encapsulation in this Project\n",
        "\n",
        "Encapsulation, a fundamental object-oriented design principle, contributes significantly to the effectiveness and robustness of the online messaging system. By hiding the internal details of the User, Message, and ChatRoom classes from external access, encapsulation ensures that users interact with the system through well-defined interfaces rather than manipulating internal attributes directly. This enhances information hiding and maintains a clear separation between the implementation and external interactions. The resulting code organization is modular, leading to a readable, maintainable, and scalable codebase. The complexity of the system is reduced as users engage with high-level methods and attributes, abstracting away the intricacies of the underlying implementation and simplifying system usage. Encapsulation further promotes ease of maintenance by reducing the risk of unintended interactions between different components, facilitating modifications or extensions to specific classes without affecting other parts of the system. This design choice enhances flexibility, allowing internal implementations to evolve without impacting the external code that relies on the encapsulated classes. Overall, encapsulation is pivotal in achieving a well-organized, maintainable, and flexible messaging system."
      ],
      "metadata": {
        "id": "3tVQmHB8awBr"
      }
    }
  ]
}